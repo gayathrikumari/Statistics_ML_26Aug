{
 "cells": [
  {
   "cell_type": "code",
   "execution_count": 6,
   "metadata": {},
   "outputs": [
    {
     "data": {
      "text/plain": [
       "'<!DOCTYPE html>\\n\\n<html>\\n<head>\\n    <meta charset=\"utf-8\">\\n    <style>\\n        \\n        table, th, td {\\n            border: 1px solid black;\\n            border-collapse: collapse;\\n            }\\n\\n        table{\\n            width: 75%;\\n            margin-left: auto;\\n            margin-right: auto;\\n            text-align: center;\\n        }\\n\\n        td{\\n            padding: 5px;\\n        }\\n\\n        #actualTime{\\n            background-color: green\\n        }\\n    </style>\\n\\n</head>\\n\\n\\n<header>\\n\\n</header>\\n\\n\\n<body>\\n\\n    <table>\\n        <tr id=\"actualTime\">\\n\\n                <th>actualTime</th>\\n                <th>cancelled</th>\\n                <th>commercialTrack</th>\\n                <th>countryCode</th>\\n                <th>scheduledTime</th>\\n                <th>stationShortCode</th>\\n                <th>stationUICCode</th>\\n                <th>trainStopping</th>\\n                <th>type</th>\\n                <th>trainNumber</th>\\t\\t\\t\\t\\t\\t\\t\\t\\t\\n        </tr>\\n\\n        <tr class=\"type\">\\n                \\t\\t\\t\\t\\t\\t\\t\\t\\n                <td>\\n                        2019-08-06T04:48:00.000Z\\n                </td>\\n                <td>\\n                        False\\n                </td>\\n                <td>\\n                        \\n                </td>\\n                <td>\\n                        FI\\n                </td>\\n                <td>\\n                        2019-08-06T04:48:00.000Z\\n                </td>\\n                <td>\\n                        JVS\\t\\n                </td>\\n                <td>\\n                        1272\\n                </td>\\n                <td>\\n                        False\\n                </td>\\n\\n                <td>\\n                        DEPARTURE\\n                </td>\\n\\n                <td>\\n                        150\\n                </td>\\n\\n            </tr>\\n            <tr class=\"countryCode\">\\n                <td>\\n                        2019-08-06T06:04:39.000Z\\n                </td>\\n                <td>\\n                        False\\n                </td>\\n                <td>\\n\\n                </td>\\n                <td>\\n                        FI\\n                </td>\\n                <td>\\n                        2019-08-06T06:04:39.000Z\\n                </td>\\n                <td>\\n                        R702\\n                </td>\\n                <td>\\n                        98998\\n                </td>\\n                <td>\\n                        False\\n                </td>\\n\\n                <td>\\n                        ARRIVAL\\n                </td>\\n\\n                <td>\\n                        150\\n                </td>\\n        </tr>\\n\\n\\n        <tr>\\n                <td>\\n                        2019-08-06T07:03:12.000Z\\n                </td>\\n                <td>\\n                        False\\n                </td>\\n                <td>\\n                        \\n                </td>\\n                <td>\\n                        FI\\n                </td>\\n                <td>\\n                        2019-08-06T07:03:12.000Z\\n                </td>\\n                <td>\\n                        ILA\\n                </td>\\n                <td>\\n                        98998\\n                </td>\\n                <td>\\n                        9\\n                </td>\\n\\n                <td>\\n                        ARRIVAL\\n                </td>\\n\\n                <td>\\n                        8337\\n                </td>\\n        </tr>\\n\\n\\n    </table>\\n\\n</body>\\n\\n\\n<footer>\\n\\n\\n</footer>\\n</html>'"
      ]
     },
     "execution_count": 6,
     "metadata": {},
     "output_type": "execute_result"
    }
   ],
   "source": [
    "open(\"data.html\", \"r\").read()"
   ]
  },
  {
   "cell_type": "code",
   "execution_count": 3,
   "metadata": {},
   "outputs": [
    {
     "name": "stdout",
     "output_type": "stream",
     "text": [
      "{'actualTime': '\\n                        2019-08-06T04:48:00.000Z\\n                ', 'cancelled': '\\n                        False\\n                ', 'commercialTrack': '\\n                        \\n                ', 'countryCode': '\\n                        FI\\n                ', 'scheduledTime': '\\n                        2019-08-06T04:48:00.000Z\\n                ', 'stationShortCode': '\\n                        JVS\\t\\n                ', 'stationUICCode': '\\n                        1272\\n                ', 'trainStopping': '\\n                        False\\n                ', 'type': '\\n                        DEPARTURE\\n                ', 'trainNumber': '\\n                        150\\n                '}\n",
      "{'actualTime': '\\n                        2019-08-06T06:04:39.000Z\\n                ', 'cancelled': '\\n                        False\\n                ', 'commercialTrack': '\\n\\n                ', 'countryCode': '\\n                        FI\\n                ', 'scheduledTime': '\\n                        2019-08-06T06:04:39.000Z\\n                ', 'stationShortCode': '\\n                        R702\\n                ', 'stationUICCode': '\\n                        98998\\n                ', 'trainStopping': '\\n                        False\\n                ', 'type': '\\n                        ARRIVAL\\n                ', 'trainNumber': '\\n                        150\\n                '}\n",
      "{'actualTime': '\\n                        2019-08-06T07:03:12.000Z\\n                ', 'cancelled': '\\n                        False\\n                ', 'commercialTrack': '\\n                        \\n                ', 'countryCode': '\\n                        FI\\n                ', 'scheduledTime': '\\n                        2019-08-06T07:03:12.000Z\\n                ', 'stationShortCode': '\\n                        ILA\\n                ', 'stationUICCode': '\\n                        98998\\n                ', 'trainStopping': '\\n                        9\\n                ', 'type': '\\n                        ARRIVAL\\n                ', 'trainNumber': '\\n                        8337\\n                '}\n"
     ]
    }
   ],
   "source": [
    "from lxml import etree\n",
    "\n",
    "table = etree.HTML(open(\"data.html\", \"r\").read()).find(\"body/table\")\n",
    "rows = iter(table)\n",
    "headers = [col.text for col in next(rows)]\n",
    "for row in rows:\n",
    "    values = [col.text for col in row]\n",
    "    print(dict(zip(headers, values)))"
   ]
  },
  {
   "cell_type": "code",
   "execution_count": 7,
   "metadata": {},
   "outputs": [
    {
     "data": {
      "text/plain": [
       "['\\n                        2019-08-06T04:48:00.000Z\\n                ',\n",
       " '\\n                        False\\n                ',\n",
       " '\\n                        \\n                ',\n",
       " '\\n                        FI\\n                ',\n",
       " '\\n                        2019-08-06T04:48:00.000Z\\n                ',\n",
       " '\\n                        JVS\\t\\n                ',\n",
       " '\\n                        1272\\n                ',\n",
       " '\\n                        False\\n                ',\n",
       " '\\n                        DEPARTURE\\n                ',\n",
       " '\\n                        150\\n                ',\n",
       " '\\n                        2019-08-06T06:04:39.000Z\\n                ',\n",
       " '\\n                        False\\n                ',\n",
       " '\\n\\n                ',\n",
       " '\\n                        FI\\n                ',\n",
       " '\\n                        2019-08-06T06:04:39.000Z\\n                ',\n",
       " '\\n                        R702\\n                ',\n",
       " '\\n                        98998\\n                ',\n",
       " '\\n                        False\\n                ',\n",
       " '\\n                        ARRIVAL\\n                ',\n",
       " '\\n                        150\\n                ',\n",
       " '\\n                        2019-08-06T07:03:12.000Z\\n                ',\n",
       " '\\n                        False\\n                ',\n",
       " '\\n                        \\n                ',\n",
       " '\\n                        FI\\n                ',\n",
       " '\\n                        2019-08-06T07:03:12.000Z\\n                ',\n",
       " '\\n                        ILA\\n                ',\n",
       " '\\n                        98998\\n                ',\n",
       " '\\n                        9\\n                ',\n",
       " '\\n                        ARRIVAL\\n                ',\n",
       " '\\n                        8337\\n                ']"
      ]
     },
     "execution_count": 7,
     "metadata": {},
     "output_type": "execute_result"
    }
   ],
   "source": [
    "import re\n",
    "re.findall(r'<td>(.*?)</td>', open(\"data.html\", \"r\").read(), re.M|re.I|re.S)"
   ]
  },
  {
   "cell_type": "code",
   "execution_count": null,
   "metadata": {},
   "outputs": [],
   "source": []
  }
 ],
 "metadata": {
  "kernelspec": {
   "display_name": "Python 3",
   "language": "python",
   "name": "python3"
  },
  "language_info": {
   "codemirror_mode": {
    "name": "ipython",
    "version": 3
   },
   "file_extension": ".py",
   "mimetype": "text/x-python",
   "name": "python",
   "nbconvert_exporter": "python",
   "pygments_lexer": "ipython3",
   "version": "3.7.4"
  }
 },
 "nbformat": 4,
 "nbformat_minor": 2
}
