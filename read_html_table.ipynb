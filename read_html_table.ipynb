{
 "cells": [
  {
   "cell_type": "code",
   "execution_count": 3,
   "metadata": {},
   "outputs": [
    {
     "name": "stdout",
     "output_type": "stream",
     "text": [
      "{'actualTime': '\\n                        2019-08-06T04:48:00.000Z\\n                ', 'cancelled': '\\n                        False\\n                ', 'commercialTrack': '\\n                        \\n                ', 'countryCode': '\\n                        FI\\n                ', 'scheduledTime': '\\n                        2019-08-06T04:48:00.000Z\\n                ', 'stationShortCode': '\\n                        JVS\\t\\n                ', 'stationUICCode': '\\n                        1272\\n                ', 'trainStopping': '\\n                        False\\n                ', 'type': '\\n                        DEPARTURE\\n                ', 'trainNumber': '\\n                        150\\n                '}\n",
      "{'actualTime': '\\n                        2019-08-06T06:04:39.000Z\\n                ', 'cancelled': '\\n                        False\\n                ', 'commercialTrack': '\\n\\n                ', 'countryCode': '\\n                        FI\\n                ', 'scheduledTime': '\\n                        2019-08-06T06:04:39.000Z\\n                ', 'stationShortCode': '\\n                        R702\\n                ', 'stationUICCode': '\\n                        98998\\n                ', 'trainStopping': '\\n                        False\\n                ', 'type': '\\n                        ARRIVAL\\n                ', 'trainNumber': '\\n                        150\\n                '}\n",
      "{'actualTime': '\\n                        2019-08-06T07:03:12.000Z\\n                ', 'cancelled': '\\n                        False\\n                ', 'commercialTrack': '\\n                        \\n                ', 'countryCode': '\\n                        FI\\n                ', 'scheduledTime': '\\n                        2019-08-06T07:03:12.000Z\\n                ', 'stationShortCode': '\\n                        ILA\\n                ', 'stationUICCode': '\\n                        98998\\n                ', 'trainStopping': '\\n                        9\\n                ', 'type': '\\n                        ARRIVAL\\n                ', 'trainNumber': '\\n                        8337\\n                '}\n"
     ]
    }
   ],
   "source": [
    "from lxml import etree\n",
    "\n",
    "table = etree.HTML(open(\"data.html\", \"r\").read()).find(\"body/table\")\n",
    "rows = iter(table)\n",
    "headers = [col.text for col in next(rows)]\n",
    "for row in rows:\n",
    "    values = [col.text for col in row]\n",
    "    print(dict(zip(headers, values)))"
   ]
  },
  {
   "cell_type": "code",
   "execution_count": null,
   "metadata": {},
   "outputs": [],
   "source": []
  }
 ],
 "metadata": {
  "kernelspec": {
   "display_name": "Python 3",
   "language": "python",
   "name": "python3"
  },
  "language_info": {
   "codemirror_mode": {
    "name": "ipython",
    "version": 3
   },
   "file_extension": ".py",
   "mimetype": "text/x-python",
   "name": "python",
   "nbconvert_exporter": "python",
   "pygments_lexer": "ipython3",
   "version": "3.7.4"
  }
 },
 "nbformat": 4,
 "nbformat_minor": 2
}
